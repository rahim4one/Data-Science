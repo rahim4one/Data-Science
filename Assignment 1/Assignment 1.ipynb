{
 "cells": [
  {
   "cell_type": "code",
   "execution_count": 1,
   "id": "a06120d9",
   "metadata": {},
   "outputs": [
    {
     "name": "stdout",
     "output_type": "stream",
     "text": [
      "\t Twinkle, twinkle, little star,\n",
      "\t\t How I wonder what you are!\n",
      "\t\t\t Up above the world so high,\n",
      "\t\t\t Like a diamond in the sky,\n",
      "\t Twinkle, twinkle, little star,\n",
      "\t\t How I wonder what you are\n"
     ]
    }
   ],
   "source": [
    "print(\"\\t Twinkle, twinkle, little star,\");\n",
    "print(\"\\t\\t How I wonder what you are!\");\n",
    "print(\"\\t\\t\\t Up above the world so high,\");\n",
    "print(\"\\t\\t\\t Like a diamond in the sky,\");\n",
    "print(\"\\t Twinkle, twinkle, little star,\");\n",
    "print(\"\\t\\t How I wonder what you are\");"
   ]
  },
  {
   "cell_type": "code",
   "execution_count": 4,
   "id": "42dd2e81",
   "metadata": {},
   "outputs": [
    {
     "name": "stdout",
     "output_type": "stream",
     "text": [
      "3.9.7\n"
     ]
    }
   ],
   "source": [
    "from platform import python_version\n",
    "\n",
    "print(python_version())"
   ]
  },
  {
   "cell_type": "code",
   "execution_count": 6,
   "id": "304f467a",
   "metadata": {},
   "outputs": [
    {
     "name": "stdout",
     "output_type": "stream",
     "text": [
      "2022-01-01 20:40:52\n"
     ]
    }
   ],
   "source": [
    "import datetime\n",
    "now = datetime.datetime.now()\n",
    "print (now.strftime(\"%Y-%m-%d %H:%M:%S\"))"
   ]
  },
  {
   "cell_type": "code",
   "execution_count": 11,
   "id": "3091f952",
   "metadata": {},
   "outputs": [
    {
     "name": "stdout",
     "output_type": "stream",
     "text": [
      "Enter radius:5\n",
      "area is 78.53981633974483 \n"
     ]
    }
   ],
   "source": [
    "import math\n",
    "\n",
    "radius = int(input(\"Enter radius:\"));\n",
    "radius = radius*radius;\n",
    "pi = math.pi;\n",
    "area = (pi)*(radius);\n",
    "\n",
    "print(f\"area is {area} \");"
   ]
  },
  {
   "cell_type": "code",
   "execution_count": 12,
   "id": "ba68a351",
   "metadata": {},
   "outputs": [
    {
     "name": "stdout",
     "output_type": "stream",
     "text": [
      "Enter your first name : Rahim\n",
      "Enter your last name : Mughal\n",
      "Mughal Rahim\n"
     ]
    }
   ],
   "source": [
    "fname = input(\"Enter your first name : \");\n",
    "lname = input(\"Enter your last name : \");\n",
    "\n",
    "print( lname + \" \" + fname );"
   ]
  },
  {
   "cell_type": "code",
   "execution_count": 13,
   "id": "546df5d9",
   "metadata": {},
   "outputs": [
    {
     "name": "stdout",
     "output_type": "stream",
     "text": [
      "Enter first number5\n",
      "Enter second number8\n",
      "13\n"
     ]
    }
   ],
   "source": [
    "firstNum = int(input(\"Enter first number\"));\n",
    "secondNum = int(input(\"Enter second number\"));\n",
    "print(firstNum+secondNum);"
   ]
  },
  {
   "cell_type": "code",
   "execution_count": null,
   "id": "b32e740a",
   "metadata": {},
   "outputs": [],
   "source": []
  }
 ],
 "metadata": {
  "kernelspec": {
   "display_name": "Python 3 (ipykernel)",
   "language": "python",
   "name": "python3"
  },
  "language_info": {
   "codemirror_mode": {
    "name": "ipython",
    "version": 3
   },
   "file_extension": ".py",
   "mimetype": "text/x-python",
   "name": "python",
   "nbconvert_exporter": "python",
   "pygments_lexer": "ipython3",
   "version": "3.9.7"
  }
 },
 "nbformat": 4,
 "nbformat_minor": 5
}
